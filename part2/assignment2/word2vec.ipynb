{
  "nbformat": 4,
  "nbformat_minor": 0,
  "metadata": {
    "colab": {
      "provenance": []
    },
    "kernelspec": {
      "name": "python3",
      "display_name": "Python 3"
    },
    "language_info": {
      "name": "python"
    }
  },
  "cells": [
    {
      "cell_type": "code",
      "execution_count": 1,
      "metadata": {
        "colab": {
          "base_uri": "https://localhost:8080/"
        },
        "id": "CnC_5U3_3kLF",
        "outputId": "d3b1e4cb-f373-4cc1-95e3-793b9abedbbe"
      },
      "outputs": [
        {
          "output_type": "stream",
          "name": "stdout",
          "text": [
            "Collecting nltk==3.8.1\n",
            "  Downloading nltk-3.8.1-py3-none-any.whl.metadata (2.8 kB)\n",
            "Requirement already satisfied: click in /usr/local/lib/python3.11/dist-packages (from nltk==3.8.1) (8.1.8)\n",
            "Requirement already satisfied: joblib in /usr/local/lib/python3.11/dist-packages (from nltk==3.8.1) (1.4.2)\n",
            "Requirement already satisfied: regex>=2021.8.3 in /usr/local/lib/python3.11/dist-packages (from nltk==3.8.1) (2024.11.6)\n",
            "Requirement already satisfied: tqdm in /usr/local/lib/python3.11/dist-packages (from nltk==3.8.1) (4.67.1)\n",
            "Downloading nltk-3.8.1-py3-none-any.whl (1.5 MB)\n",
            "\u001b[2K   \u001b[90m━━━━━━━━━━━━━━━━━━━━━━━━━━━━━━━━━━━━━━━━\u001b[0m \u001b[32m1.5/1.5 MB\u001b[0m \u001b[31m9.1 MB/s\u001b[0m eta \u001b[36m0:00:00\u001b[0m\n",
            "\u001b[?25hInstalling collected packages: nltk\n",
            "  Attempting uninstall: nltk\n",
            "    Found existing installation: nltk 3.9.1\n",
            "    Uninstalling nltk-3.9.1:\n",
            "      Successfully uninstalled nltk-3.9.1\n",
            "\u001b[31mERROR: pip's dependency resolver does not currently take into account all the packages that are installed. This behaviour is the source of the following dependency conflicts.\n",
            "textblob 0.19.0 requires nltk>=3.9, but you have nltk 3.8.1 which is incompatible.\u001b[0m\u001b[31m\n",
            "\u001b[0mSuccessfully installed nltk-3.8.1\n",
            "Collecting gensim==4.3.1\n",
            "  Downloading gensim-4.3.1-cp311-cp311-manylinux_2_17_x86_64.manylinux2014_x86_64.whl.metadata (8.4 kB)\n",
            "Requirement already satisfied: numpy>=1.18.5 in /usr/local/lib/python3.11/dist-packages (from gensim==4.3.1) (1.26.4)\n",
            "Requirement already satisfied: scipy>=1.7.0 in /usr/local/lib/python3.11/dist-packages (from gensim==4.3.1) (1.14.1)\n",
            "Requirement already satisfied: smart-open>=1.8.1 in /usr/local/lib/python3.11/dist-packages (from gensim==4.3.1) (7.1.0)\n",
            "Requirement already satisfied: wrapt in /usr/local/lib/python3.11/dist-packages (from smart-open>=1.8.1->gensim==4.3.1) (1.17.2)\n",
            "Downloading gensim-4.3.1-cp311-cp311-manylinux_2_17_x86_64.manylinux2014_x86_64.whl (26.6 MB)\n",
            "\u001b[2K   \u001b[90m━━━━━━━━━━━━━━━━━━━━━━━━━━━━━━━━━━━━━━━━\u001b[0m \u001b[32m26.6/26.6 MB\u001b[0m \u001b[31m48.7 MB/s\u001b[0m eta \u001b[36m0:00:00\u001b[0m\n",
            "\u001b[?25hInstalling collected packages: gensim\n",
            "Successfully installed gensim-4.3.1\n",
            "Collecting scipy==1.10.1\n",
            "  Downloading scipy-1.10.1-cp311-cp311-manylinux_2_17_x86_64.manylinux2014_x86_64.whl.metadata (58 kB)\n",
            "\u001b[2K     \u001b[90m━━━━━━━━━━━━━━━━━━━━━━━━━━━━━━━━━━━━━━━━\u001b[0m \u001b[32m58.9/58.9 kB\u001b[0m \u001b[31m2.0 MB/s\u001b[0m eta \u001b[36m0:00:00\u001b[0m\n",
            "\u001b[?25hRequirement already satisfied: numpy<1.27.0,>=1.19.5 in /usr/local/lib/python3.11/dist-packages (from scipy==1.10.1) (1.26.4)\n",
            "Downloading scipy-1.10.1-cp311-cp311-manylinux_2_17_x86_64.manylinux2014_x86_64.whl (34.1 MB)\n",
            "\u001b[2K   \u001b[90m━━━━━━━━━━━━━━━━━━━━━━━━━━━━━━━━━━━━━━━━\u001b[0m \u001b[32m34.1/34.1 MB\u001b[0m \u001b[31m14.0 MB/s\u001b[0m eta \u001b[36m0:00:00\u001b[0m\n",
            "\u001b[?25hInstalling collected packages: scipy\n",
            "  Attempting uninstall: scipy\n",
            "    Found existing installation: scipy 1.14.1\n",
            "    Uninstalling scipy-1.14.1:\n",
            "      Successfully uninstalled scipy-1.14.1\n",
            "\u001b[31mERROR: pip's dependency resolver does not currently take into account all the packages that are installed. This behaviour is the source of the following dependency conflicts.\n",
            "scikit-image 0.25.2 requires scipy>=1.11.4, but you have scipy 1.10.1 which is incompatible.\n",
            "cvxpy 1.6.2 requires scipy>=1.11.0, but you have scipy 1.10.1 which is incompatible.\n",
            "jaxlib 0.5.1 requires scipy>=1.11.1, but you have scipy 1.10.1 which is incompatible.\n",
            "jax 0.5.2 requires scipy>=1.11.1, but you have scipy 1.10.1 which is incompatible.\u001b[0m\u001b[31m\n",
            "\u001b[0mSuccessfully installed scipy-1.10.1\n"
          ]
        }
      ],
      "source": [
        "!pip install nltk==3.8.1\n",
        "!pip install gensim==4.3.1\n",
        "!pip install scipy==1.10.1"
      ]
    },
    {
      "cell_type": "code",
      "source": [
        "import nltk\n",
        "nltk.download('brown')\n"
      ],
      "metadata": {
        "colab": {
          "base_uri": "https://localhost:8080/"
        },
        "id": "FNAjtxd43lbJ",
        "outputId": "6d8f6a43-2983-42c4-eca6-3c3fa0479cd9"
      },
      "execution_count": 3,
      "outputs": [
        {
          "output_type": "stream",
          "name": "stderr",
          "text": [
            "[nltk_data] Downloading package brown to /root/nltk_data...\n",
            "[nltk_data]   Package brown is already up-to-date!\n"
          ]
        },
        {
          "output_type": "execute_result",
          "data": {
            "text/plain": [
              "True"
            ]
          },
          "metadata": {},
          "execution_count": 3
        }
      ]
    },
    {
      "cell_type": "code",
      "source": [
        "from nltk.corpus import brown\n",
        "brown.sents()"
      ],
      "metadata": {
        "colab": {
          "base_uri": "https://localhost:8080/"
        },
        "id": "-6mc0_r-4akY",
        "outputId": "f8d7b855-f389-4890-b047-67b74568d111"
      },
      "execution_count": 4,
      "outputs": [
        {
          "output_type": "execute_result",
          "data": {
            "text/plain": [
              "[['The', 'Fulton', 'County', 'Grand', 'Jury', 'said', 'Friday', 'an', 'investigation', 'of', \"Atlanta's\", 'recent', 'primary', 'election', 'produced', '``', 'no', 'evidence', \"''\", 'that', 'any', 'irregularities', 'took', 'place', '.'], ['The', 'jury', 'further', 'said', 'in', 'term-end', 'presentments', 'that', 'the', 'City', 'Executive', 'Committee', ',', 'which', 'had', 'over-all', 'charge', 'of', 'the', 'election', ',', '``', 'deserves', 'the', 'praise', 'and', 'thanks', 'of', 'the', 'City', 'of', 'Atlanta', \"''\", 'for', 'the', 'manner', 'in', 'which', 'the', 'election', 'was', 'conducted', '.'], ...]"
            ]
          },
          "metadata": {},
          "execution_count": 4
        }
      ]
    },
    {
      "cell_type": "code",
      "source": [
        "import gensim\n",
        "# vector_size=100で、単語ベクトルの次元数を100に指定しています。\n",
        "model = gensim.models.Word2Vec(brown.sents(), vector_size=100, seed=0, sg=1)"
      ],
      "metadata": {
        "id": "gjQC4q4G4bON"
      },
      "execution_count": 5,
      "outputs": []
    },
    {
      "cell_type": "code",
      "source": [
        "model.wv[\"mouth\"]"
      ],
      "metadata": {
        "colab": {
          "base_uri": "https://localhost:8080/"
        },
        "id": "J6PgQ-qG4ehi",
        "outputId": "346467fd-52dd-4147-b36f-ebdbfe020935"
      },
      "execution_count": 6,
      "outputs": [
        {
          "output_type": "execute_result",
          "data": {
            "text/plain": [
              "array([ 0.5102965 ,  0.18561648,  0.13043134, -0.25575286, -0.3284666 ,\n",
              "        0.44699246,  0.10803416, -0.3775094 ,  0.20793833,  0.14278746,\n",
              "        0.01958434,  0.47625944, -0.04001238,  0.12396575, -0.22030516,\n",
              "        0.02367467,  0.23021704,  0.0540806 , -0.36813706,  0.1025219 ,\n",
              "       -0.07398604,  0.4100597 , -0.32978454,  0.2571803 ,  0.5584163 ,\n",
              "        0.29737747,  0.53115594, -0.06762519,  0.02745358, -0.44163463,\n",
              "        0.08504528, -0.27187976,  0.20252413, -0.46333367, -0.12780741,\n",
              "       -0.00351398,  0.13340971,  0.11970221,  0.07298484, -0.02732597,\n",
              "        0.33645424, -0.02093447, -0.10454215, -0.2782102 , -0.41253436,\n",
              "       -0.27293524, -0.04498691,  0.08869996, -0.26958558,  0.27553505,\n",
              "       -0.31545082, -0.20560664,  0.32868809,  0.73076373,  0.45508417,\n",
              "        0.36108595, -0.35487655,  0.15153478, -0.05143209, -0.11466467,\n",
              "       -0.41286078,  0.64057267, -0.10296171, -0.04262372,  0.10519198,\n",
              "        0.10058655,  0.05904254, -0.24991916,  0.12547843,  0.18731202,\n",
              "       -0.7387977 , -0.02338209, -0.12671645, -0.24629259,  0.23823306,\n",
              "        0.08006871,  0.10441488,  0.28511566, -0.14649405,  0.1948363 ,\n",
              "        0.361701  , -0.33006436, -0.19045083, -0.18499409,  0.08753743,\n",
              "        0.23961602, -0.08726543, -0.2106757 , -0.14050117,  0.06300861,\n",
              "        0.15547924, -0.01740601,  0.11789288, -0.3454841 , -0.1419029 ,\n",
              "        0.43560773, -0.01741646, -0.18787608, -0.17879175,  0.23112433],\n",
              "      dtype=float32)"
            ]
          },
          "metadata": {},
          "execution_count": 6
        }
      ]
    },
    {
      "cell_type": "code",
      "source": [
        "model.wv.most_similar('mouth', topn=10)"
      ],
      "metadata": {
        "colab": {
          "base_uri": "https://localhost:8080/"
        },
        "id": "czMAFsca5EMR",
        "outputId": "a6162908-280b-42d0-cd4a-40198eda516b"
      },
      "execution_count": 7,
      "outputs": [
        {
          "output_type": "execute_result",
          "data": {
            "text/plain": [
              "[('chest', 0.9333721995353699),\n",
              " ('breath', 0.9313670992851257),\n",
              " ('neck', 0.9289836883544922),\n",
              " ('lips', 0.9172022342681885),\n",
              " ('knees', 0.9144580364227295),\n",
              " ('pocket', 0.9115321636199951),\n",
              " ('hat', 0.9113527536392212),\n",
              " ('chair', 0.9089545607566833),\n",
              " ('nose', 0.908176064491272),\n",
              " ('rifle', 0.905432939529419)]"
            ]
          },
          "metadata": {},
          "execution_count": 7
        }
      ]
    },
    {
      "cell_type": "code",
      "source": [
        "model.wv.most_similar('computer', topn=10)"
      ],
      "metadata": {
        "colab": {
          "base_uri": "https://localhost:8080/"
        },
        "id": "BrUhnHrU5Hvy",
        "outputId": "cca7d96c-7db4-4437-c8fa-8d6059855384"
      },
      "execution_count": 8,
      "outputs": [
        {
          "output_type": "execute_result",
          "data": {
            "text/plain": [
              "[('torque', 0.9678250551223755),\n",
              " ('recognizable', 0.9673766493797302),\n",
              " ('gyro-stabilized', 0.9664233922958374),\n",
              " ('sterilization', 0.9657788276672363),\n",
              " ('astounding', 0.9653221368789673),\n",
              " ('configuration', 0.9652819633483887),\n",
              " ('appestat', 0.9648089408874512),\n",
              " (\"C'\", 0.9647659063339233),\n",
              " ('chipping', 0.9647414088249207),\n",
              " ('hilum', 0.9637715816497803)]"
            ]
          },
          "metadata": {},
          "execution_count": 8
        }
      ]
    },
    {
      "cell_type": "code",
      "source": [],
      "metadata": {
        "id": "MiGNXwMA5LAC"
      },
      "execution_count": null,
      "outputs": []
    }
  ]
}